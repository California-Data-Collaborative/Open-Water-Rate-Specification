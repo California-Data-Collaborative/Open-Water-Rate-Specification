{
 "cells": [
  {
   "cell_type": "code",
   "execution_count": 1,
   "metadata": {
    "collapsed": false
   },
   "outputs": [
    {
     "name": "stdout",
     "output_type": "stream",
     "text": [
      "height has been deprecated.\n",
      "\n"
     ]
    }
   ],
   "source": [
    "import pandas as pd\n",
    "import numpy as np\n",
    "import geopandas as gp\n",
    "import matplotlib.pylab as pl\n",
    "from fiona.crs import from_epsg\n",
    "import fiona\n",
    "from matplotlib import colors\n",
    "import shapely\n",
    "import matplotlib.pyplot as plt\n",
    "import matplotlib.colors as mcolors\n",
    "import matplotlib.cm as cm\n",
    "from matplotlib.colors import ListedColormap    \n",
    "%matplotlib inline\n",
    "pd.set_option('display.height',1000)\n",
    "pd.set_option('display.max_row',500)\n",
    "pd.set_option('display.max_columns',500)\n",
    "pd.set_option(\"display.width\", 1000)"
   ]
  },
  {
   "cell_type": "markdown",
   "metadata": {},
   "source": [
    "### Objective\n",
    "The objective of this notebook is to solve the Overlap problem present in some block-groups. By CADC suggestion, the Water District that should be assigned when overlapping is present, it’s the one with smaller area. \n",
    "This is based on the nature of water districts, some bigger water districts that contain smaller ones are created for water wholesale, while smaller ones are the ones that directly serve the costumer.\n"
   ]
  },
  {
   "cell_type": "code",
   "execution_count": 2,
   "metadata": {
    "collapsed": false
   },
   "outputs": [
    {
     "name": "stdout",
     "output_type": "stream",
     "text": [
      "(23212, 16)\n"
     ]
    },
    {
     "data": {
      "text/html": [
       "<div>\n",
       "<table border=\"1\" class=\"dataframe\">\n",
       "  <thead>\n",
       "    <tr style=\"text-align: right;\">\n",
       "      <th></th>\n",
       "      <th>ALAND10</th>\n",
       "      <th>AWATER10</th>\n",
       "      <th>BLKGRPCE10</th>\n",
       "      <th>COUNTYFP10</th>\n",
       "      <th>FUNCSTAT10</th>\n",
       "      <th>GEOID10</th>\n",
       "      <th>INTPTLAT10</th>\n",
       "      <th>INTPTLON10</th>\n",
       "      <th>MTFCC10</th>\n",
       "      <th>NAMELSAD10</th>\n",
       "      <th>PWSID</th>\n",
       "      <th>PWSID_str</th>\n",
       "      <th>STATEFP10</th>\n",
       "      <th>TRACTCE10</th>\n",
       "      <th>geometry</th>\n",
       "      <th>id</th>\n",
       "    </tr>\n",
       "  </thead>\n",
       "  <tbody>\n",
       "    <tr>\n",
       "      <th>0</th>\n",
       "      <td>1570668</td>\n",
       "      <td>0</td>\n",
       "      <td>3</td>\n",
       "      <td>053</td>\n",
       "      <td>S</td>\n",
       "      <td>060530107013</td>\n",
       "      <td>+36.6007541</td>\n",
       "      <td>-121.7026925</td>\n",
       "      <td>G5030</td>\n",
       "      <td>Block Group 3</td>\n",
       "      <td>None</td>\n",
       "      <td>None</td>\n",
       "      <td>06</td>\n",
       "      <td>010701</td>\n",
       "      <td>POLYGON ((-121.695295 36.611978, -121.695835 3...</td>\n",
       "      <td>0</td>\n",
       "    </tr>\n",
       "  </tbody>\n",
       "</table>\n",
       "</div>"
      ],
      "text/plain": [
       "   ALAND10  AWATER10 BLKGRPCE10 COUNTYFP10 FUNCSTAT10       GEOID10   INTPTLAT10    INTPTLON10 MTFCC10     NAMELSAD10 PWSID PWSID_str STATEFP10 TRACTCE10                                           geometry id\n",
       "0  1570668         0          3        053          S  060530107013  +36.6007541  -121.7026925   G5030  Block Group 3  None      None        06    010701  POLYGON ((-121.695295 36.611978, -121.695835 3...  0"
      ]
     },
     "execution_count": 2,
     "metadata": {},
     "output_type": "execute_result"
    }
   ],
   "source": [
    "#load the file form the previews notebook\n",
    "bg10 = gp.GeoDataFrame.from_file('../Data/GeoData/BG2010/tl_2010_06_bg10_Complete.geojson')\n",
    "print bg10.shape\n",
    "bg10.head(1)"
   ]
  },
  {
   "cell_type": "code",
   "execution_count": 3,
   "metadata": {
    "collapsed": false
   },
   "outputs": [
    {
     "name": "stdout",
     "output_type": "stream",
     "text": [
      "(410, 16)\n"
     ]
    },
    {
     "data": {
      "text/html": [
       "<div>\n",
       "<table border=\"1\" class=\"dataframe\">\n",
       "  <thead>\n",
       "    <tr style=\"text-align: right;\">\n",
       "      <th></th>\n",
       "      <th>cartodb_id</th>\n",
       "      <th>city</th>\n",
       "      <th>county</th>\n",
       "      <th>detailed_c</th>\n",
       "      <th>displayed</th>\n",
       "      <th>general_ch</th>\n",
       "      <th>geom_3310</th>\n",
       "      <th>geometry</th>\n",
       "      <th>gid</th>\n",
       "      <th>parcels_in</th>\n",
       "      <th>pwsid</th>\n",
       "      <th>reference</th>\n",
       "      <th>sbx7_7_tar</th>\n",
       "      <th>supplier_n</th>\n",
       "      <th>to_be_proc</th>\n",
       "      <th>utility_id</th>\n",
       "    </tr>\n",
       "  </thead>\n",
       "  <tbody>\n",
       "    <tr>\n",
       "      <th>0</th>\n",
       "      <td>219</td>\n",
       "      <td></td>\n",
       "      <td></td>\n",
       "      <td></td>\n",
       "      <td>1</td>\n",
       "      <td>N/A</td>\n",
       "      <td>0106000020EE0C00000100000001030000000100000069...</td>\n",
       "      <td>(POLYGON ((-122.000388 37.34519, -122.000371 3...</td>\n",
       "      <td>78</td>\n",
       "      <td>0</td>\n",
       "      <td>CA4310001</td>\n",
       "      <td></td>\n",
       "      <td>1</td>\n",
       "      <td>California Water Service Company Los Altos/Sub...</td>\n",
       "      <td>0</td>\n",
       "      <td>227</td>\n",
       "    </tr>\n",
       "  </tbody>\n",
       "</table>\n",
       "</div>"
      ],
      "text/plain": [
       "   cartodb_id city county detailed_c  displayed general_ch                                          geom_3310                                           geometry  gid  parcels_in      pwsid reference  sbx7_7_tar                                         supplier_n  to_be_proc  utility_id\n",
       "0         219                                 1        N/A  0106000020EE0C00000100000001030000000100000069...  (POLYGON ((-122.000388 37.34519, -122.000371 3...   78           0  CA4310001                     1  California Water Service Company Los Altos/Sub...           0         227"
      ]
     },
     "execution_count": 3,
     "metadata": {},
     "output_type": "execute_result"
    }
   ],
   "source": [
    "#load file provided by CADC, list of water districts with their polygon\n",
    "wa_d = gp.GeoDataFrame.from_file('../Data/Supplier/suppliers.geojson')\n",
    "print wa_d.shape\n",
    "wa_d.head(1)"
   ]
  },
  {
   "cell_type": "code",
   "execution_count": 4,
   "metadata": {
    "collapsed": false
   },
   "outputs": [
    {
     "name": "stdout",
     "output_type": "stream",
     "text": [
      "(1364, 16)\n"
     ]
    },
    {
     "data": {
      "text/html": [
       "<div>\n",
       "<table border=\"1\" class=\"dataframe\">\n",
       "  <thead>\n",
       "    <tr style=\"text-align: right;\">\n",
       "      <th></th>\n",
       "      <th>ALAND10</th>\n",
       "      <th>AWATER10</th>\n",
       "      <th>BLKGRPCE10</th>\n",
       "      <th>COUNTYFP10</th>\n",
       "      <th>FUNCSTAT10</th>\n",
       "      <th>GEOID10</th>\n",
       "      <th>INTPTLAT10</th>\n",
       "      <th>INTPTLON10</th>\n",
       "      <th>MTFCC10</th>\n",
       "      <th>NAMELSAD10</th>\n",
       "      <th>PWSID</th>\n",
       "      <th>PWSID_str</th>\n",
       "      <th>STATEFP10</th>\n",
       "      <th>TRACTCE10</th>\n",
       "      <th>geometry</th>\n",
       "      <th>id</th>\n",
       "    </tr>\n",
       "  </thead>\n",
       "  <tbody>\n",
       "    <tr>\n",
       "      <th>180</th>\n",
       "      <td>614499</td>\n",
       "      <td>0</td>\n",
       "      <td>3</td>\n",
       "      <td>083</td>\n",
       "      <td>S</td>\n",
       "      <td>060830001023</td>\n",
       "      <td>+34.4409365</td>\n",
       "      <td>-119.7568967</td>\n",
       "      <td>G5030</td>\n",
       "      <td>Block Group 3</td>\n",
       "      <td>Overlap</td>\n",
       "      <td>CA4210004, CA4210010</td>\n",
       "      <td>06</td>\n",
       "      <td>000102</td>\n",
       "      <td>POLYGON ((-119.759786 34.440687, -119.75978 34...</td>\n",
       "      <td>180</td>\n",
       "    </tr>\n",
       "    <tr>\n",
       "      <th>190</th>\n",
       "      <td>892404</td>\n",
       "      <td>0</td>\n",
       "      <td>7</td>\n",
       "      <td>083</td>\n",
       "      <td>S</td>\n",
       "      <td>060830020077</td>\n",
       "      <td>+34.9036946</td>\n",
       "      <td>-120.4204500</td>\n",
       "      <td>G5030</td>\n",
       "      <td>Block Group 7</td>\n",
       "      <td>Overlap</td>\n",
       "      <td>CA4210011, CA4210016</td>\n",
       "      <td>06</td>\n",
       "      <td>002007</td>\n",
       "      <td>POLYGON ((-120.418023 34.896043, -120.418036 3...</td>\n",
       "      <td>190</td>\n",
       "    </tr>\n",
       "    <tr>\n",
       "      <th>335</th>\n",
       "      <td>2595170</td>\n",
       "      <td>106198</td>\n",
       "      <td>2</td>\n",
       "      <td>083</td>\n",
       "      <td>S</td>\n",
       "      <td>060830013062</td>\n",
       "      <td>+34.4120864</td>\n",
       "      <td>-119.7495788</td>\n",
       "      <td>G5030</td>\n",
       "      <td>Block Group 2</td>\n",
       "      <td>Overlap</td>\n",
       "      <td>CA4210004, CA4210010</td>\n",
       "      <td>06</td>\n",
       "      <td>001306</td>\n",
       "      <td>POLYGON ((-119.756013 34.417628, -119.756012 3...</td>\n",
       "      <td>335</td>\n",
       "    </tr>\n",
       "  </tbody>\n",
       "</table>\n",
       "</div>"
      ],
      "text/plain": [
       "     ALAND10  AWATER10 BLKGRPCE10 COUNTYFP10 FUNCSTAT10       GEOID10   INTPTLAT10    INTPTLON10 MTFCC10     NAMELSAD10    PWSID             PWSID_str STATEFP10 TRACTCE10                                           geometry   id\n",
       "180   614499         0          3        083          S  060830001023  +34.4409365  -119.7568967   G5030  Block Group 3  Overlap  CA4210004, CA4210010        06    000102  POLYGON ((-119.759786 34.440687, -119.75978 34...  180\n",
       "190   892404         0          7        083          S  060830020077  +34.9036946  -120.4204500   G5030  Block Group 7  Overlap  CA4210011, CA4210016        06    002007  POLYGON ((-120.418023 34.896043, -120.418036 3...  190\n",
       "335  2595170    106198          2        083          S  060830013062  +34.4120864  -119.7495788   G5030  Block Group 2  Overlap  CA4210004, CA4210010        06    001306  POLYGON ((-119.756013 34.417628, -119.756012 3...  335"
      ]
     },
     "execution_count": 4,
     "metadata": {},
     "output_type": "execute_result"
    }
   ],
   "source": [
    "print bg10[bg10.PWSID=='Overlap'].shape\n",
    "bg10[bg10.PWSID=='Overlap'].head(3)"
   ]
  },
  {
   "cell_type": "markdown",
   "metadata": {},
   "source": [
    "### Methodology\n",
    "The following code compares the area from water districts that overlap and assigns the one with the smaller area to the block-group. The column PWSID_str contains the list of WD that overlap, it is splited and then the area is compared selecting the smaller as the right WD."
   ]
  },
  {
   "cell_type": "code",
   "execution_count": 5,
   "metadata": {
    "collapsed": false
   },
   "outputs": [],
   "source": [
    "\n",
    "for block in bg10[bg10.PWSID=='Overlap'].index:\n",
    "    smaller_name = np.nan\n",
    "    smaller_area = wa_d['geometry'].area.max()\n",
    "    #print bg10.loc[block,'PWSID_str'].split(', ')\n",
    "    for wa in bg10.loc[block,'PWSID_str'].split(', '):\n",
    "        \n",
    "        if smaller_area >= wa_d.loc[wa_d.loc[wa_d.pwsid == wa].index[0],'geometry'].area:\n",
    "            smaller_area = wa_d.loc[wa_d.loc[wa_d.pwsid == wa].index[0],'geometry'].area\n",
    "            smaller_name = wa\n",
    "    #print smaller_name\n",
    "    bg10.loc[block, 'PWSID'] = smaller_name\n",
    "        "
   ]
  },
  {
   "cell_type": "code",
   "execution_count": 6,
   "metadata": {
    "collapsed": false
   },
   "outputs": [
    {
     "name": "stdout",
     "output_type": "stream",
     "text": [
      "(0, 16)\n"
     ]
    }
   ],
   "source": [
    "print bg10[bg10.PWSID=='Overlap'].shape\n",
    "#bg10[bg10.PWSID=='Overlap'].head()"
   ]
  },
  {
   "cell_type": "code",
   "execution_count": 7,
   "metadata": {
    "collapsed": true
   },
   "outputs": [],
   "source": [
    "#The result is saved as tl_2010_06_bg10_Complete_Solved_Overlaps.geojson\n",
    "with open('../Data/GeoData/BG2010/tl_2010_06_bg10_Complete_Solved_Overlaps.geojson', 'w') as f:\n",
    "    f.write(bg10.to_json())"
   ]
  },
  {
   "cell_type": "code",
   "execution_count": null,
   "metadata": {
    "collapsed": true
   },
   "outputs": [],
   "source": []
  }
 ],
 "metadata": {
  "anaconda-cloud": {},
  "kernelspec": {
   "display_name": "Python [Root]",
   "language": "python",
   "name": "Python [Root]"
  },
  "language_info": {
   "codemirror_mode": {
    "name": "ipython",
    "version": 2
   },
   "file_extension": ".py",
   "mimetype": "text/x-python",
   "name": "python",
   "nbconvert_exporter": "python",
   "pygments_lexer": "ipython2",
   "version": "2.7.12"
  }
 },
 "nbformat": 4,
 "nbformat_minor": 2
}
