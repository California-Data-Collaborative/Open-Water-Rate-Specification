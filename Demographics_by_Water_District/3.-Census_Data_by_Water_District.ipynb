{
 "cells": [
  {
   "cell_type": "code",
   "execution_count": 1,
   "metadata": {
    "collapsed": false
   },
   "outputs": [
    {
     "name": "stdout",
     "output_type": "stream",
     "text": [
      "height has been deprecated.\n",
      "\n"
     ]
    }
   ],
   "source": [
    "import pandas as pd\n",
    "import numpy as np\n",
    "import geopandas as gp\n",
    "import matplotlib.pylab as pl\n",
    "from fiona.crs import from_epsg\n",
    "import fiona\n",
    "from matplotlib import colors\n",
    "import shapely\n",
    "import matplotlib.pyplot as plt\n",
    "import matplotlib.colors as mcolors\n",
    "import matplotlib.cm as cm\n",
    "from matplotlib.colors import ListedColormap    \n",
    "%matplotlib inline\n",
    "pd.set_option('display.height',1000)\n",
    "pd.set_option('display.max_row',500)\n",
    "pd.set_option('display.max_columns',500)\n",
    "pd.set_option(\"display.width\", 1000)"
   ]
  },
  {
   "cell_type": "markdown",
   "metadata": {},
   "source": [
    "### Objective\n",
    "The objective of this notebook is to aggregate the data from the Census Bureau by Water District\n"
   ]
  },
  {
   "cell_type": "code",
   "execution_count": 2,
   "metadata": {
    "collapsed": false,
    "scrolled": true
   },
   "outputs": [
    {
     "name": "stdout",
     "output_type": "stream",
     "text": [
      "(23212, 16)\n"
     ]
    },
    {
     "data": {
      "text/html": [
       "<div>\n",
       "<table border=\"1\" class=\"dataframe\">\n",
       "  <thead>\n",
       "    <tr style=\"text-align: right;\">\n",
       "      <th></th>\n",
       "      <th>ALAND10</th>\n",
       "      <th>AWATER10</th>\n",
       "      <th>BLKGRPCE10</th>\n",
       "      <th>COUNTYFP10</th>\n",
       "      <th>FUNCSTAT10</th>\n",
       "      <th>GEOID10</th>\n",
       "      <th>INTPTLAT10</th>\n",
       "      <th>INTPTLON10</th>\n",
       "      <th>MTFCC10</th>\n",
       "      <th>NAMELSAD10</th>\n",
       "      <th>PWSID</th>\n",
       "      <th>PWSID_str</th>\n",
       "      <th>STATEFP10</th>\n",
       "      <th>TRACTCE10</th>\n",
       "      <th>geometry</th>\n",
       "      <th>id</th>\n",
       "    </tr>\n",
       "  </thead>\n",
       "  <tbody>\n",
       "    <tr>\n",
       "      <th>0</th>\n",
       "      <td>1570668</td>\n",
       "      <td>0</td>\n",
       "      <td>3</td>\n",
       "      <td>053</td>\n",
       "      <td>S</td>\n",
       "      <td>060530107013</td>\n",
       "      <td>+36.6007541</td>\n",
       "      <td>-121.7026925</td>\n",
       "      <td>G5030</td>\n",
       "      <td>Block Group 3</td>\n",
       "      <td>None</td>\n",
       "      <td>None</td>\n",
       "      <td>06</td>\n",
       "      <td>010701</td>\n",
       "      <td>POLYGON ((-121.695295 36.611978, -121.695835 3...</td>\n",
       "      <td>0</td>\n",
       "    </tr>\n",
       "  </tbody>\n",
       "</table>\n",
       "</div>"
      ],
      "text/plain": [
       "   ALAND10  AWATER10 BLKGRPCE10 COUNTYFP10 FUNCSTAT10       GEOID10   INTPTLAT10    INTPTLON10 MTFCC10     NAMELSAD10 PWSID PWSID_str STATEFP10 TRACTCE10                                           geometry id\n",
       "0  1570668         0          3        053          S  060530107013  +36.6007541  -121.7026925   G5030  Block Group 3  None      None        06    010701  POLYGON ((-121.695295 36.611978, -121.695835 3...  0"
      ]
     },
     "execution_count": 2,
     "metadata": {},
     "output_type": "execute_result"
    }
   ],
   "source": [
    "bg10 = gp.GeoDataFrame.from_file('../Data/GeoData/BG2010/tl_2010_06_bg10_Complete_Solved_Overlaps.geojson')\n",
    "print bg10.shape\n",
    "bg10.head(1)"
   ]
  },
  {
   "cell_type": "code",
   "execution_count": 3,
   "metadata": {
    "collapsed": false
   },
   "outputs": [
    {
     "name": "stdout",
     "output_type": "stream",
     "text": [
      "(410, 16)\n"
     ]
    },
    {
     "data": {
      "text/html": [
       "<div>\n",
       "<table border=\"1\" class=\"dataframe\">\n",
       "  <thead>\n",
       "    <tr style=\"text-align: right;\">\n",
       "      <th></th>\n",
       "      <th>cartodb_id</th>\n",
       "      <th>city</th>\n",
       "      <th>county</th>\n",
       "      <th>detailed_c</th>\n",
       "      <th>displayed</th>\n",
       "      <th>general_ch</th>\n",
       "      <th>geom_3310</th>\n",
       "      <th>geometry</th>\n",
       "      <th>gid</th>\n",
       "      <th>parcels_in</th>\n",
       "      <th>pwsid</th>\n",
       "      <th>reference</th>\n",
       "      <th>sbx7_7_tar</th>\n",
       "      <th>supplier_n</th>\n",
       "      <th>to_be_proc</th>\n",
       "      <th>utility_id</th>\n",
       "    </tr>\n",
       "  </thead>\n",
       "  <tbody>\n",
       "    <tr>\n",
       "      <th>0</th>\n",
       "      <td>219</td>\n",
       "      <td></td>\n",
       "      <td></td>\n",
       "      <td></td>\n",
       "      <td>1</td>\n",
       "      <td>N/A</td>\n",
       "      <td>0106000020EE0C00000100000001030000000100000069...</td>\n",
       "      <td>(POLYGON ((-122.000388 37.34519, -122.000371 3...</td>\n",
       "      <td>78</td>\n",
       "      <td>0</td>\n",
       "      <td>CA4310001</td>\n",
       "      <td></td>\n",
       "      <td>1</td>\n",
       "      <td>California Water Service Company Los Altos/Sub...</td>\n",
       "      <td>0</td>\n",
       "      <td>227</td>\n",
       "    </tr>\n",
       "    <tr>\n",
       "      <th>1</th>\n",
       "      <td>10</td>\n",
       "      <td>SAN BERNARDINO</td>\n",
       "      <td>SAN BERNARDINO</td>\n",
       "      <td></td>\n",
       "      <td>1</td>\n",
       "      <td>N/A</td>\n",
       "      <td>0106000020EE0C0000040000000103000000010000000B...</td>\n",
       "      <td>(POLYGON ((-117.40553 34.22197, -117.40553 34....</td>\n",
       "      <td>165</td>\n",
       "      <td>0</td>\n",
       "      <td>CA3610039</td>\n",
       "      <td></td>\n",
       "      <td>1</td>\n",
       "      <td>San Bernardino  City of</td>\n",
       "      <td>0</td>\n",
       "      <td>9</td>\n",
       "    </tr>\n",
       "    <tr>\n",
       "      <th>2</th>\n",
       "      <td>228</td>\n",
       "      <td>SANTA CLARA</td>\n",
       "      <td>SANTA CLARA</td>\n",
       "      <td></td>\n",
       "      <td>1</td>\n",
       "      <td>N/A</td>\n",
       "      <td>0106000020EE0C000001000000010300000001000000FE...</td>\n",
       "      <td>(POLYGON ((-121.986149 37.412066, -121.985204 ...</td>\n",
       "      <td>170</td>\n",
       "      <td>0</td>\n",
       "      <td>CA4310012</td>\n",
       "      <td></td>\n",
       "      <td>1</td>\n",
       "      <td>Santa Clara  City of</td>\n",
       "      <td>0</td>\n",
       "      <td>236</td>\n",
       "    </tr>\n",
       "  </tbody>\n",
       "</table>\n",
       "</div>"
      ],
      "text/plain": [
       "   cartodb_id            city          county detailed_c  displayed general_ch                                          geom_3310                                           geometry  gid  parcels_in      pwsid reference  sbx7_7_tar                                         supplier_n  to_be_proc  utility_id\n",
       "0         219                                                     1        N/A  0106000020EE0C00000100000001030000000100000069...  (POLYGON ((-122.000388 37.34519, -122.000371 3...   78           0  CA4310001                     1  California Water Service Company Los Altos/Sub...           0         227\n",
       "1          10  SAN BERNARDINO  SAN BERNARDINO                     1        N/A  0106000020EE0C0000040000000103000000010000000B...  (POLYGON ((-117.40553 34.22197, -117.40553 34....  165           0  CA3610039                     1                            San Bernardino  City of           0           9\n",
       "2         228     SANTA CLARA     SANTA CLARA                     1        N/A  0106000020EE0C000001000000010300000001000000FE...  (POLYGON ((-121.986149 37.412066, -121.985204 ...  170           0  CA4310012                     1                               Santa Clara  City of           0         236"
      ]
     },
     "execution_count": 3,
     "metadata": {},
     "output_type": "execute_result"
    }
   ],
   "source": [
    "wa_d = gp.GeoDataFrame.from_file('../Data/Supplier/suppliers.geojson')\n",
    "print wa_d.shape\n",
    "wa_d.head(3)"
   ]
  },
  {
   "cell_type": "markdown",
   "metadata": {},
   "source": [
    "### Methodology\n",
    "Census Data by BlockGroup in California:\n",
    "- Household Income\n",
    "- Race\n",
    "- Education Level\n",
    "\n",
    "The methodology consists in merging the census data with the data generated in the previous notebook, adding the PWSID (assigned water district) as a column that describes the blockgroups. This allows to group the Census Data by Water District. The aggregated data is saved as geojson file having as well the shape from each water district. The process is repeated in each of the 3 variables downloaded from Fact Finder.\n"
   ]
  },
  {
   "cell_type": "code",
   "execution_count": 4,
   "metadata": {
    "collapsed": false
   },
   "outputs": [
    {
     "name": "stdout",
     "output_type": "stream",
     "text": [
      "(23212, 37)\n",
      "(402, 34)\n"
     ]
    }
   ],
   "source": [
    "#Downloaded from Census Bureau Fact Finder\n",
    "house_income = pd.read_csv('Census_Data/Household_Income/ACS_16_5YR_B19001/ACS_16_5YR_B19001_with_ann.csv', header=1)\n",
    "print house_income.shape\n",
    "\n",
    "house_income['GEOID10'] = house_income.Id.apply(lambda x: x[9:])\n",
    "house_income.drop(['Id','Id2'],inplace=True, axis=1)\n",
    "house_income = house_income.merge(bg10[['GEOID10','PWSID','PWSID_str']], on ='GEOID10', how='left')\n",
    "house_income_byWaD = house_income.groupby('PWSID').sum()\n",
    "print house_income_byWaD.shape\n",
    "\n",
    "house_income_byWaD.reset_index(inplace=True)\n",
    "wa_d.rename(columns={'pwsid':'PWSID'},inplace=True)\n",
    "house_income_byWaD = house_income_byWaD.merge(wa_d[['PWSID','supplier_n','geometry']], on='PWSID',how='left')\n",
    "house_income_byWaD = gp.GeoDataFrame(house_income_byWaD[:-1], geometry='geometry')\n",
    "perhouse = [ 'Margin of Error; Total:',\n",
    " 'Estimate; Total: - Less than $10,000',\n",
    " 'Margin of Error; Total: - Less than $10,000',\n",
    " 'Estimate; Total: - $10,000 to $14,999',\n",
    " 'Margin of Error; Total: - $10,000 to $14,999',\n",
    " 'Estimate; Total: - $15,000 to $19,999',\n",
    " 'Margin of Error; Total: - $15,000 to $19,999',\n",
    " 'Estimate; Total: - $20,000 to $24,999',\n",
    " 'Margin of Error; Total: - $20,000 to $24,999',\n",
    " 'Estimate; Total: - $25,000 to $29,999',\n",
    " 'Margin of Error; Total: - $25,000 to $29,999',\n",
    " 'Estimate; Total: - $30,000 to $34,999',\n",
    " 'Margin of Error; Total: - $30,000 to $34,999',\n",
    " 'Estimate; Total: - $35,000 to $39,999',\n",
    " 'Margin of Error; Total: - $35,000 to $39,999',\n",
    " 'Estimate; Total: - $40,000 to $44,999',\n",
    " 'Margin of Error; Total: - $40,000 to $44,999',\n",
    " 'Estimate; Total: - $45,000 to $49,999',\n",
    " 'Margin of Error; Total: - $45,000 to $49,999',\n",
    " 'Estimate; Total: - $50,000 to $59,999',\n",
    " 'Margin of Error; Total: - $50,000 to $59,999',\n",
    " 'Estimate; Total: - $60,000 to $74,999',\n",
    " 'Margin of Error; Total: - $60,000 to $74,999',\n",
    " 'Estimate; Total: - $75,000 to $99,999',\n",
    " 'Margin of Error; Total: - $75,000 to $99,999',\n",
    " 'Estimate; Total: - $100,000 to $124,999',\n",
    " 'Margin of Error; Total: - $100,000 to $124,999',\n",
    " 'Estimate; Total: - $125,000 to $149,999',\n",
    " 'Margin of Error; Total: - $125,000 to $149,999',\n",
    " 'Estimate; Total: - $150,000 to $199,999',\n",
    " 'Margin of Error; Total: - $150,000 to $199,999',\n",
    " 'Estimate; Total: - $200,000 or more',\n",
    " 'Margin of Error; Total: - $200,000 or more']\n",
    "\n",
    "for col in perhouse:\n",
    "    house_income_byWaD['Per_'+col] = (house_income_byWaD[col]/house_income_byWaD['Estimate; Total:'])*100\n",
    "    \n",
    "for WD in house_income_byWaD.index:\n",
    "    for i in range(len(perhouse[1::2])):\n",
    "        if house_income_byWaD.loc[WD][perhouse[1::2][:i]].sum() >= (house_income_byWaD.loc[WD,'Estimate; Total:']/float(2)):\n",
    "            house_income_byWaD.loc[WD,'Median Household Income'] = perhouse[1::2][i]\n",
    "            house_income_byWaD.loc[WD,'Median Household Income Count'] = (house_income_byWaD.loc[WD][perhouse[1::2][:i]].sum()/float(house_income_byWaD.loc[WD,'Estimate; Total:']))*100\n",
    "            break\n",
    "with open('../Data/Supplier/Household_Income_Water_District.geojson', 'w') as f:\n",
    "    f.write(house_income_byWaD.to_json())"
   ]
  },
  {
   "cell_type": "code",
   "execution_count": 5,
   "metadata": {
    "collapsed": false
   },
   "outputs": [
    {
     "name": "stdout",
     "output_type": "stream",
     "text": [
      "(23212, 23)\n",
      "(402, 20)\n"
     ]
    }
   ],
   "source": [
    "#Downloaded from Census Bureau Fact Finder\n",
    "race = pd.read_csv('Census_Data/Race/ACS_16_5YR_B02001/ACS_16_5YR_B02001_with_ann.csv', header=1)\n",
    "print race.shape\n",
    "race['GEOID10'] = race.Id.apply(lambda x: x[9:])\n",
    "race.drop(['Id','Id2'],inplace=True, axis=1)\n",
    "race = race.merge(bg10[['GEOID10','PWSID','PWSID_str']], on ='GEOID10', how='left')\n",
    "race_byWaD = race.groupby('PWSID').sum()\n",
    "print race_byWaD.shape\n",
    "race_byWaD.reset_index(inplace=True)\n",
    "\n",
    "race_byWaD = race_byWaD.merge(wa_d[['PWSID','supplier_n','geometry']], on='PWSID',how='left')\n",
    "race_byWaD = gp.GeoDataFrame(race_byWaD[:-1], geometry='geometry')\n",
    "race_byWaD['Estimate; Total: - Other'] = race_byWaD.iloc[::,13:-2:2].sum(axis=1)\n",
    "race_byWaD['Margin of Error; Total: - Other'] = race_byWaD.iloc[::,14:-2:2].sum(axis=1)\n",
    "forper = ['Margin of Error; Total:',\n",
    " 'Estimate; Total: - White alone',\n",
    " 'Margin of Error; Total: - White alone',\n",
    " 'Estimate; Total: - Black or African American alone',\n",
    " 'Margin of Error; Total: - Black or African American alone',\n",
    " 'Estimate; Total: - American Indian and Alaska Native alone',\n",
    " 'Margin of Error; Total: - American Indian and Alaska Native alone',\n",
    " 'Estimate; Total: - Asian alone',\n",
    " 'Margin of Error; Total: - Asian alone',\n",
    " 'Estimate; Total: - Native Hawaiian and Other Pacific Islander alone',\n",
    " 'Margin of Error; Total: - Native Hawaiian and Other Pacific Islander alone',\n",
    " 'Estimate; Total: - Other',\n",
    " 'Margin of Error; Total: - Other']\n",
    "for col in forper:\n",
    "    race_byWaD['Per_'+col] = (race_byWaD[col]/race_byWaD['Estimate; Total:'])*100\n",
    "with open('../Data/Supplier/Race_Water_District.geojson', 'w') as f:\n",
    "    f.write(race_byWaD.to_json()) "
   ]
  },
  {
   "cell_type": "code",
   "execution_count": 6,
   "metadata": {
    "collapsed": false
   },
   "outputs": [
    {
     "name": "stdout",
     "output_type": "stream",
     "text": [
      "(23212, 73)\n",
      "(402, 70)\n"
     ]
    }
   ],
   "source": [
    "#Downloaded from Census Bureau Fact Finder\n",
    "edu = pd.read_csv('Census_Data/Education/ACS_16_5YR_B15002/ACS_16_5YR_B15002_with_ann.csv', header=1)\n",
    "print edu.shape\n",
    "edu['GEOID10'] = edu.Id.apply(lambda x: x[9:])\n",
    "edu.drop(['Id','Id2'],inplace=True, axis=1)\n",
    "edu = edu.merge(bg10[['GEOID10','PWSID','PWSID_str']], on ='GEOID10', how='left')\n",
    "edu_byWaD = edu.groupby('PWSID').sum()\n",
    "print edu_byWaD.shape\n",
    "edu_byWaD.reset_index(inplace=True)\n",
    "#wa_d.rename(columns={'pwsid':'PWSID'},inplace=True)\n",
    "edu_byWaD = edu_byWaD.merge(wa_d[['PWSID','supplier_n','geometry']], on='PWSID',how='left')\n",
    "edu_byWaD = gp.GeoDataFrame(edu_byWaD[:-1], geometry='geometry')\n",
    "forman = ['Margin of Error; Male:',\n",
    " 'Estimate; Male: - No schooling completed',\n",
    " 'Margin of Error; Male: - No schooling completed',\n",
    " 'Estimate; Male: - Nursery to 4th grade',\n",
    " 'Margin of Error; Male: - Nursery to 4th grade',\n",
    " 'Estimate; Male: - 5th and 6th grade',\n",
    " 'Margin of Error; Male: - 5th and 6th grade',\n",
    " 'Estimate; Male: - 7th and 8th grade',\n",
    " 'Margin of Error; Male: - 7th and 8th grade',\n",
    " 'Estimate; Male: - 9th grade',\n",
    " 'Margin of Error; Male: - 9th grade',\n",
    " 'Estimate; Male: - 10th grade',\n",
    " 'Margin of Error; Male: - 10th grade',\n",
    " 'Estimate; Male: - 11th grade',\n",
    " 'Margin of Error; Male: - 11th grade',\n",
    " 'Estimate; Male: - 12th grade, no diploma',\n",
    " 'Margin of Error; Male: - 12th grade, no diploma',\n",
    " 'Estimate; Male: - High school graduate (includes equivalency)',\n",
    " 'Margin of Error; Male: - High school graduate (includes equivalency)',\n",
    " 'Estimate; Male: - Some college, less than 1 year',\n",
    " 'Margin of Error; Male: - Some college, less than 1 year',\n",
    " 'Estimate; Male: - Some college, 1 or more years, no degree',\n",
    " 'Margin of Error; Male: - Some college, 1 or more years, no degree',\n",
    " \"Estimate; Male: - Associate's degree\",\n",
    " \"Margin of Error; Male: - Associate's degree\",\n",
    " \"Estimate; Male: - Bachelor's degree\",\n",
    " \"Margin of Error; Male: - Bachelor's degree\",\n",
    " \"Estimate; Male: - Master's degree\",\n",
    " \"Margin of Error; Male: - Master's degree\",\n",
    " 'Estimate; Male: - Professional school degree',\n",
    " 'Margin of Error; Male: - Professional school degree',\n",
    " 'Estimate; Male: - Doctorate degree',\n",
    " 'Margin of Error; Male: - Doctorate degree']\n",
    "forwoman = [\n",
    " 'Margin of Error; Female:',\n",
    " 'Estimate; Female: - No schooling completed',\n",
    " 'Margin of Error; Female: - No schooling completed',\n",
    " 'Estimate; Female: - Nursery to 4th grade',\n",
    " 'Margin of Error; Female: - Nursery to 4th grade',\n",
    " 'Estimate; Female: - 5th and 6th grade',\n",
    " 'Margin of Error; Female: - 5th and 6th grade',\n",
    " 'Estimate; Female: - 7th and 8th grade',\n",
    " 'Margin of Error; Female: - 7th and 8th grade',\n",
    " 'Estimate; Female: - 9th grade',\n",
    " 'Margin of Error; Female: - 9th grade',\n",
    " 'Estimate; Female: - 10th grade',\n",
    " 'Margin of Error; Female: - 10th grade',\n",
    " 'Estimate; Female: - 11th grade',\n",
    " 'Margin of Error; Female: - 11th grade',\n",
    " 'Estimate; Female: - 12th grade, no diploma',\n",
    " 'Margin of Error; Female: - 12th grade, no diploma',\n",
    " 'Estimate; Female: - High school graduate (includes equivalency)',\n",
    " 'Margin of Error; Female: - High school graduate (includes equivalency)',\n",
    " 'Estimate; Female: - Some college, less than 1 year',\n",
    " 'Margin of Error; Female: - Some college, less than 1 year',\n",
    " 'Estimate; Female: - Some college, 1 or more years, no degree',\n",
    " 'Margin of Error; Female: - Some college, 1 or more years, no degree',\n",
    " \"Estimate; Female: - Associate's degree\",\n",
    " \"Margin of Error; Female: - Associate's degree\",\n",
    " \"Estimate; Female: - Bachelor's degree\",\n",
    " \"Margin of Error; Female: - Bachelor's degree\",\n",
    " \"Estimate; Female: - Master's degree\",\n",
    " \"Margin of Error; Female: - Master's degree\",\n",
    " 'Estimate; Female: - Professional school degree',\n",
    " 'Margin of Error; Female: - Professional school degree',\n",
    " 'Estimate; Female: - Doctorate degree',\n",
    " 'Margin of Error; Female: - Doctorate degree']\n",
    "\n",
    "for col in forman:\n",
    "    edu_byWaD['Per_'+col] = (edu_byWaD[col]/edu_byWaD['Estimate; Male:'])*100\n",
    "for col in forwoman:\n",
    "    edu_byWaD['Per_'+col] = (edu_byWaD[col]/edu_byWaD['Estimate; Female:'])*100\n",
    "\n",
    "for WD in edu_byWaD.index:\n",
    "    for i in range(len(forman[1::2])):\n",
    "        if edu_byWaD.loc[WD][forman[1::2][:i]].sum() >= (edu_byWaD.loc[WD,'Estimate; Male:']/float(2)):\n",
    "            edu_byWaD.loc[WD,'Median Education Male Level'] = forman[1::2][i]\n",
    "            edu_byWaD.loc[WD,'Median Education Male Count'] = edu_byWaD.loc[WD][forman[1::2][:i]].sum()\n",
    "            break\n",
    "    for i in range(len(forwoman[1::2])):\n",
    "        if edu_byWaD.loc[WD][forwoman[1::2][:i]].sum() >= (edu_byWaD.loc[WD,'Estimate; Female:']/float(2)):\n",
    "            edu_byWaD.loc[WD,'Median Education Female Level'] = forwoman[1::2][i]\n",
    "            edu_byWaD.loc[WD,'Median Education Female Count'] = edu_byWaD.loc[WD][forwoman[1::2][:i]].sum()\n",
    "            break\n",
    "    for i in range(len(forman[1::2])):\n",
    "        if edu_byWaD.loc[WD][forman[1::2][:i] + forwoman[1::2][:i]].sum() >= (edu_byWaD.loc[WD,'Estimate; Total:']/float(2)):\n",
    "            edu_byWaD.loc[WD,'Median Education Total Level'] = forman[1::2][i].replace('Male','Total')\n",
    "            edu_byWaD.loc[WD,'Median Education Total Count'] = edu_byWaD.loc[WD][forman[1::2][:i] + forwoman[1::2][:i]].sum()\n",
    "            break\n",
    "\n",
    "with open('../Data/Supplier/Education_Water_District.geojson', 'w') as f:\n",
    "    f.write(edu_byWaD.to_json())"
   ]
  },
  {
   "cell_type": "code",
   "execution_count": null,
   "metadata": {
    "collapsed": true
   },
   "outputs": [],
   "source": []
  }
 ],
 "metadata": {
  "anaconda-cloud": {},
  "kernelspec": {
   "display_name": "Python [Root]",
   "language": "python",
   "name": "Python [Root]"
  },
  "language_info": {
   "codemirror_mode": {
    "name": "ipython",
    "version": 2
   },
   "file_extension": ".py",
   "mimetype": "text/x-python",
   "name": "python",
   "nbconvert_exporter": "python",
   "pygments_lexer": "ipython2",
   "version": "2.7.12"
  }
 },
 "nbformat": 4,
 "nbformat_minor": 2
}
